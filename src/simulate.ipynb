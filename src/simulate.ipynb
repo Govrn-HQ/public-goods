{
 "cells": [
  {
   "cell_type": "code",
   "metadata": {
    "tags": [],
    "cell_id": "00000-cbbd0a94-bbe3-42fd-8c39-8bd5825788fc",
    "deepnote_cell_type": "code"
   },
   "source": "# Start writing code here...",
   "execution_count": null,
   "outputs": []
  },
  {
   "cell_type": "markdown",
   "source": "- `donation`: contribution amount\n- `timestamp`: timestamp\n- `from`: came from wallet X (an individual)\n- `to`: went to wallet Y (a project)",
   "metadata": {
    "tags": [],
    "cell_id": "00001-c23567f8-9c97-4500-907b-b25e264979cd",
    "deepnote_cell_type": "markdown"
   }
  },
  {
   "cell_type": "code",
   "metadata": {
    "tags": [],
    "cell_id": "00002-600093df-ecd3-4ab3-87cc-ab7077dca316",
    "deepnote_cell_type": "code"
   },
   "source": "num_fake_samples = 1000",
   "execution_count": null,
   "outputs": []
  },
  {
   "cell_type": "code",
   "metadata": {
    "tags": [],
    "cell_id": "00003-ce4581c6-e849-4b3c-b42c-a6ddaa86a33f",
    "deepnote_cell_type": "code"
   },
   "source": "amounts = np.random.normal(10, 1, num_fake_samples)",
   "execution_count": null,
   "outputs": []
  },
  {
   "cell_type": "code",
   "metadata": {
    "tags": [],
    "cell_id": "00004-28c6a1d0-faee-4b4a-aa6f-d12b7b73febd",
    "deepnote_cell_type": "code"
   },
   "source": "sns.displot(amounts)",
   "execution_count": null,
   "outputs": []
  },
  {
   "cell_type": "code",
   "metadata": {
    "tags": [],
    "cell_id": "00005-998868ed-c930-4397-b1a5-76de3b4f6527",
    "deepnote_cell_type": "code"
   },
   "source": "# we'll want this for sampling times\nseconds_in_day = 60 * 60 * 24\nincs = np.random.uniform(0, seconds_in_day, num_fake_samples)\nsns.displot(incs)\nseconds_in_day\n",
   "execution_count": null,
   "outputs": []
  },
  {
   "cell_type": "code",
   "metadata": {
    "tags": [],
    "cell_id": "00006-53720b5d-9733-44e8-800d-332445645fb4",
    "deepnote_cell_type": "code"
   },
   "source": "now = datetime.datetime.now()",
   "execution_count": null,
   "outputs": []
  },
  {
   "cell_type": "code",
   "metadata": {
    "tags": [],
    "cell_id": "00007-b2177e31-1d4b-4201-88ba-c4cb5ba0f356",
    "deepnote_cell_type": "code"
   },
   "source": "timestamps = [now + datetime.timedelta(seconds=x) for x in incs]",
   "execution_count": null,
   "outputs": []
  },
  {
   "cell_type": "code",
   "metadata": {
    "tags": [],
    "cell_id": "00008-ff309594-4469-4131-ad73-f6ed4f88df5d",
    "deepnote_cell_type": "code"
   },
   "source": "timesteps = list(range(7))",
   "execution_count": null,
   "outputs": []
  },
  {
   "cell_type": "code",
   "metadata": {
    "tags": [],
    "cell_id": "00009-f8d41edb-9ed5-4b42-9f86-439cf83a28f1",
    "deepnote_cell_type": "code"
   },
   "source": "contributor_set = list(range(100))",
   "execution_count": null,
   "outputs": []
  },
  {
   "cell_type": "code",
   "metadata": {
    "tags": [],
    "cell_id": "00010-49daac3a-7b2a-4c15-a9f3-0efea2ebd5dd",
    "deepnote_cell_type": "code"
   },
   "source": "contributors = np.random.choice(contributor_set, num_fake_samples)",
   "execution_count": null,
   "outputs": []
  },
  {
   "cell_type": "code",
   "metadata": {
    "tags": [],
    "cell_id": "00011-944ad0d7-7e68-49e7-9d26-424caa35e2c7",
    "deepnote_cell_type": "code"
   },
   "source": "project_set = ['a', 'b', 'c', 'd']",
   "execution_count": null,
   "outputs": []
  },
  {
   "cell_type": "code",
   "metadata": {
    "tags": [],
    "cell_id": "00012-feaa3807-f30a-4921-b506-1ef6f8cfaf52",
    "deepnote_cell_type": "code"
   },
   "source": "projects = np.random.choice(project_set, num_fake_samples)",
   "execution_count": null,
   "outputs": []
  },
  {
   "cell_type": "code",
   "metadata": {
    "tags": [],
    "cell_id": "00013-cd0d8af5-99d8-41b9-9bbb-ad7490789c91",
    "deepnote_cell_type": "code"
   },
   "source": "df = pd.DataFrame({'donation': amounts, 'timestamp': timestamps, 'from': contributors, 'to': projects})\n# (fake data)",
   "execution_count": null,
   "outputs": []
  },
  {
   "cell_type": "code",
   "metadata": {
    "tags": [],
    "cell_id": "00014-c9500baf-f706-43f0-b8f4-7f33327c384a",
    "deepnote_cell_type": "code"
   },
   "source": "df = df.set_index('timestamp')",
   "execution_count": null,
   "outputs": []
  },
  {
   "cell_type": "code",
   "metadata": {
    "tags": [],
    "cell_id": "00015-72a8b260-a452-4a38-9759-db15e2fc0db5",
    "deepnote_cell_type": "code"
   },
   "source": "df.groupby('to').mean()",
   "execution_count": null,
   "outputs": []
  },
  {
   "cell_type": "code",
   "metadata": {
    "tags": [],
    "cell_id": "00016-20561106-5903-4fc1-9bb0-8e9a8046313f",
    "deepnote_cell_type": "code"
   },
   "source": "df[df.to == 'a'].donation.sort_index().cumsum().plot()",
   "execution_count": null,
   "outputs": []
  },
  {
   "cell_type": "code",
   "metadata": {
    "tags": [],
    "cell_id": "00017-5939908c-caec-44d7-b17b-2f02ddf11255",
    "deepnote_cell_type": "code"
   },
   "source": "df[df.to == 'b'].donation.sort_index().cumsum().plot()",
   "execution_count": null,
   "outputs": []
  },
  {
   "cell_type": "code",
   "metadata": {
    "tags": [],
    "cell_id": "00018-8bd2f474-6661-4e64-96af-f23ac135c894",
    "deepnote_cell_type": "code"
   },
   "source": "df[df.to == 'c'].donation.sort_index().cumsum().plot()",
   "execution_count": null,
   "outputs": []
  },
  {
   "cell_type": "markdown",
   "source": "<a style='text-decoration:none;line-height:16px;display:flex;color:#5B5B62;padding:10px;justify-content:end;' href='https://deepnote.com?utm_source=created-in-deepnote-cell&projectId=32e1581d-cef2-4771-a5bf-9bbfe7a3603c' target=\"_blank\">\n<img alt='Created in deepnote.com' style='display:inline;max-height:16px;margin:0px;margin-right:7.5px;' src='data:image/svg+xml;base64,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' > </img>\nCreated in <span style='font-weight:600;margin-left:4px;'>Deepnote</span></a>",
   "metadata": {
    "tags": [],
    "created_in_deepnote_cell": true,
    "deepnote_cell_type": "markdown"
   }
  }
 ],
 "nbformat": 4,
 "nbformat_minor": 2,
 "metadata": {
  "orig_nbformat": 2,
  "deepnote": {
   "is_reactive": false
  },
  "deepnote_notebook_id": "19417280-0f45-4766-84f8-a3649b792b98",
  "deepnote_execution_queue": []
 }
}